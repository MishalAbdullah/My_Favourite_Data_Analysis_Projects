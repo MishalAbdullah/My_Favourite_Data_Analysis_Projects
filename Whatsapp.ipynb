{
  "nbformat": 4,
  "nbformat_minor": 0,
  "metadata": {
    "colab": {
      "name": "Untitled3.ipynb",
      "provenance": []
    },
    "kernelspec": {
      "name": "python3",
      "display_name": "Python 3"
    },
    "language_info": {
      "name": "python"
    }
  },
  "cells": [
    {
      "cell_type": "markdown",
      "metadata": {
        "id": "IR934jh1drdy"
      },
      "source": [
        "This is a sample size data representing the time when 4 persons are chating on the whatsapp.\n",
        "For analyzing the data we first load all the packages required for the analysis."
      ]
    },
    {
      "cell_type": "code",
      "metadata": {
        "id": "8ZrlIABx-l--"
      },
      "source": [
        "import pandas as pd\n",
        "import numpy as np\n",
        "import matplotlib.pyplot as plt                                                                           \n",
        "import seaborn as sns"
      ],
      "execution_count": null,
      "outputs": []
    },
    {
      "cell_type": "code",
      "metadata": {
        "id": "daMs5LSb-rjR"
      },
      "source": [
        "df = pd.read_csv(\"wc.csv\")"
      ],
      "execution_count": null,
      "outputs": []
    },
    {
      "cell_type": "markdown",
      "metadata": {
        "id": "FN1GgfJ0eH_E"
      },
      "source": [
        "This shows the structure of the data."
      ]
    },
    {
      "cell_type": "code",
      "metadata": {
        "colab": {
          "base_uri": "https://localhost:8080/",
          "height": 204
        },
        "id": "evEF78pP-zus",
        "outputId": "6f1f3200-e2f0-4ce4-9ee6-932eb05d5f60"
      },
      "source": [
        "df.head(5)"
      ],
      "execution_count": null,
      "outputs": [
        {
          "output_type": "execute_result",
          "data": {
            "text/html": [
              "<div>\n",
              "<style scoped>\n",
              "    .dataframe tbody tr th:only-of-type {\n",
              "        vertical-align: middle;\n",
              "    }\n",
              "\n",
              "    .dataframe tbody tr th {\n",
              "        vertical-align: top;\n",
              "    }\n",
              "\n",
              "    .dataframe thead th {\n",
              "        text-align: right;\n",
              "    }\n",
              "</style>\n",
              "<table border=\"1\" class=\"dataframe\">\n",
              "  <thead>\n",
              "    <tr style=\"text-align: right;\">\n",
              "      <th></th>\n",
              "      <th>Unnamed: 0</th>\n",
              "      <th>hours</th>\n",
              "      <th>days</th>\n",
              "      <th>months</th>\n",
              "      <th>names</th>\n",
              "      <th>timestamp</th>\n",
              "    </tr>\n",
              "  </thead>\n",
              "  <tbody>\n",
              "    <tr>\n",
              "      <th>0</th>\n",
              "      <td>0</td>\n",
              "      <td>1</td>\n",
              "      <td>19</td>\n",
              "      <td>May</td>\n",
              "      <td>Person4</td>\n",
              "      <td>2020-05-19</td>\n",
              "    </tr>\n",
              "    <tr>\n",
              "      <th>1</th>\n",
              "      <td>1</td>\n",
              "      <td>22</td>\n",
              "      <td>19</td>\n",
              "      <td>May</td>\n",
              "      <td>Person3</td>\n",
              "      <td>2020-05-19</td>\n",
              "    </tr>\n",
              "    <tr>\n",
              "      <th>2</th>\n",
              "      <td>2</td>\n",
              "      <td>22</td>\n",
              "      <td>19</td>\n",
              "      <td>May</td>\n",
              "      <td>Person3</td>\n",
              "      <td>2020-05-19</td>\n",
              "    </tr>\n",
              "    <tr>\n",
              "      <th>3</th>\n",
              "      <td>3</td>\n",
              "      <td>22</td>\n",
              "      <td>19</td>\n",
              "      <td>May</td>\n",
              "      <td>Person1</td>\n",
              "      <td>2020-05-19</td>\n",
              "    </tr>\n",
              "    <tr>\n",
              "      <th>4</th>\n",
              "      <td>4</td>\n",
              "      <td>22</td>\n",
              "      <td>19</td>\n",
              "      <td>May</td>\n",
              "      <td>Person3</td>\n",
              "      <td>2020-05-19</td>\n",
              "    </tr>\n",
              "  </tbody>\n",
              "</table>\n",
              "</div>"
            ],
            "text/plain": [
              "   Unnamed: 0  hours  days months    names   timestamp\n",
              "0           0      1    19    May  Person4  2020-05-19\n",
              "1           1     22    19    May  Person3  2020-05-19\n",
              "2           2     22    19    May  Person3  2020-05-19\n",
              "3           3     22    19    May  Person1  2020-05-19\n",
              "4           4     22    19    May  Person3  2020-05-19"
            ]
          },
          "metadata": {
            "tags": []
          },
          "execution_count": 5
        }
      ]
    },
    {
      "cell_type": "code",
      "metadata": {
        "colab": {
          "base_uri": "https://localhost:8080/"
        },
        "id": "N2dRpMxs_Peb",
        "outputId": "bb10981f-d14e-4885-cf0e-64f45b40861b"
      },
      "source": [
        "df.info"
      ],
      "execution_count": null,
      "outputs": [
        {
          "output_type": "execute_result",
          "data": {
            "text/plain": [
              "<bound method DataFrame.info of        Unnamed: 0  hours  days  months    names   timestamp\n",
              "0               0      1    19     May  Person4  2020-05-19\n",
              "1               1     22    19     May  Person3  2020-05-19\n",
              "2               2     22    19     May  Person3  2020-05-19\n",
              "3               3     22    19     May  Person1  2020-05-19\n",
              "4               4     22    19     May  Person3  2020-05-19\n",
              "...           ...    ...   ...     ...      ...         ...\n",
              "51570       51570     19    12  August  Person3  2020-08-12\n",
              "51571       51571     19    12  August  Person1  2020-08-12\n",
              "51572       51572     20    12  August  Person3  2020-08-12\n",
              "51573       51573     21    12  August  Person1  2020-08-12\n",
              "51574       51574     21    12  August  Person1  2020-08-12\n",
              "\n",
              "[51575 rows x 6 columns]>"
            ]
          },
          "metadata": {
            "tags": []
          },
          "execution_count": 6
        }
      ]
    },
    {
      "cell_type": "code",
      "metadata": {
        "colab": {
          "base_uri": "https://localhost:8080/",
          "height": 204
        },
        "id": "6TRVn-B4_paa",
        "outputId": "61dbcd46-9202-424e-bbe9-ee8e74ceda6f"
      },
      "source": [
        "df = df[['names', 'timestamp', 'hours', 'days', 'months']]\n",
        "df.head()"
      ],
      "execution_count": null,
      "outputs": [
        {
          "output_type": "execute_result",
          "data": {
            "text/html": [
              "<div>\n",
              "<style scoped>\n",
              "    .dataframe tbody tr th:only-of-type {\n",
              "        vertical-align: middle;\n",
              "    }\n",
              "\n",
              "    .dataframe tbody tr th {\n",
              "        vertical-align: top;\n",
              "    }\n",
              "\n",
              "    .dataframe thead th {\n",
              "        text-align: right;\n",
              "    }\n",
              "</style>\n",
              "<table border=\"1\" class=\"dataframe\">\n",
              "  <thead>\n",
              "    <tr style=\"text-align: right;\">\n",
              "      <th></th>\n",
              "      <th>names</th>\n",
              "      <th>timestamp</th>\n",
              "      <th>hours</th>\n",
              "      <th>days</th>\n",
              "      <th>months</th>\n",
              "    </tr>\n",
              "  </thead>\n",
              "  <tbody>\n",
              "    <tr>\n",
              "      <th>0</th>\n",
              "      <td>Person4</td>\n",
              "      <td>2020-05-19</td>\n",
              "      <td>1</td>\n",
              "      <td>19</td>\n",
              "      <td>May</td>\n",
              "    </tr>\n",
              "    <tr>\n",
              "      <th>1</th>\n",
              "      <td>Person3</td>\n",
              "      <td>2020-05-19</td>\n",
              "      <td>22</td>\n",
              "      <td>19</td>\n",
              "      <td>May</td>\n",
              "    </tr>\n",
              "    <tr>\n",
              "      <th>2</th>\n",
              "      <td>Person3</td>\n",
              "      <td>2020-05-19</td>\n",
              "      <td>22</td>\n",
              "      <td>19</td>\n",
              "      <td>May</td>\n",
              "    </tr>\n",
              "    <tr>\n",
              "      <th>3</th>\n",
              "      <td>Person1</td>\n",
              "      <td>2020-05-19</td>\n",
              "      <td>22</td>\n",
              "      <td>19</td>\n",
              "      <td>May</td>\n",
              "    </tr>\n",
              "    <tr>\n",
              "      <th>4</th>\n",
              "      <td>Person3</td>\n",
              "      <td>2020-05-19</td>\n",
              "      <td>22</td>\n",
              "      <td>19</td>\n",
              "      <td>May</td>\n",
              "    </tr>\n",
              "  </tbody>\n",
              "</table>\n",
              "</div>"
            ],
            "text/plain": [
              "     names   timestamp  hours  days months\n",
              "0  Person4  2020-05-19      1    19    May\n",
              "1  Person3  2020-05-19     22    19    May\n",
              "2  Person3  2020-05-19     22    19    May\n",
              "3  Person1  2020-05-19     22    19    May\n",
              "4  Person3  2020-05-19     22    19    May"
            ]
          },
          "metadata": {
            "tags": []
          },
          "execution_count": 9
        }
      ]
    },
    {
      "cell_type": "code",
      "metadata": {
        "colab": {
          "base_uri": "https://localhost:8080/"
        },
        "id": "ZFT00cKL_RAb",
        "outputId": "7526b360-e9d7-499b-b754-2d1a04e3c8a0"
      },
      "source": [
        "df['names'].unique()"
      ],
      "execution_count": null,
      "outputs": [
        {
          "output_type": "execute_result",
          "data": {
            "text/plain": [
              "array(['Person4', 'Person3', 'Person1', 'Person2'], dtype=object)"
            ]
          },
          "metadata": {
            "tags": []
          },
          "execution_count": 7
        }
      ]
    },
    {
      "cell_type": "code",
      "metadata": {
        "colab": {
          "base_uri": "https://localhost:8080/",
          "height": 204
        },
        "id": "DPV4SpqZ_nb3",
        "outputId": "5c64755e-62f1-4955-bfcd-52021e4b69c1"
      },
      "source": [
        "df.head()"
      ],
      "execution_count": null,
      "outputs": [
        {
          "output_type": "execute_result",
          "data": {
            "text/html": [
              "<div>\n",
              "<style scoped>\n",
              "    .dataframe tbody tr th:only-of-type {\n",
              "        vertical-align: middle;\n",
              "    }\n",
              "\n",
              "    .dataframe tbody tr th {\n",
              "        vertical-align: top;\n",
              "    }\n",
              "\n",
              "    .dataframe thead th {\n",
              "        text-align: right;\n",
              "    }\n",
              "</style>\n",
              "<table border=\"1\" class=\"dataframe\">\n",
              "  <thead>\n",
              "    <tr style=\"text-align: right;\">\n",
              "      <th></th>\n",
              "      <th>names</th>\n",
              "      <th>timestamp</th>\n",
              "      <th>hours</th>\n",
              "      <th>days</th>\n",
              "      <th>months</th>\n",
              "    </tr>\n",
              "  </thead>\n",
              "  <tbody>\n",
              "    <tr>\n",
              "      <th>0</th>\n",
              "      <td>Person4</td>\n",
              "      <td>2020-05-19</td>\n",
              "      <td>1</td>\n",
              "      <td>19</td>\n",
              "      <td>May</td>\n",
              "    </tr>\n",
              "    <tr>\n",
              "      <th>1</th>\n",
              "      <td>Person3</td>\n",
              "      <td>2020-05-19</td>\n",
              "      <td>22</td>\n",
              "      <td>19</td>\n",
              "      <td>May</td>\n",
              "    </tr>\n",
              "    <tr>\n",
              "      <th>2</th>\n",
              "      <td>Person3</td>\n",
              "      <td>2020-05-19</td>\n",
              "      <td>22</td>\n",
              "      <td>19</td>\n",
              "      <td>May</td>\n",
              "    </tr>\n",
              "    <tr>\n",
              "      <th>3</th>\n",
              "      <td>Person1</td>\n",
              "      <td>2020-05-19</td>\n",
              "      <td>22</td>\n",
              "      <td>19</td>\n",
              "      <td>May</td>\n",
              "    </tr>\n",
              "    <tr>\n",
              "      <th>4</th>\n",
              "      <td>Person3</td>\n",
              "      <td>2020-05-19</td>\n",
              "      <td>22</td>\n",
              "      <td>19</td>\n",
              "      <td>May</td>\n",
              "    </tr>\n",
              "  </tbody>\n",
              "</table>\n",
              "</div>"
            ],
            "text/plain": [
              "     names   timestamp  hours  days months\n",
              "0  Person4  2020-05-19      1    19    May\n",
              "1  Person3  2020-05-19     22    19    May\n",
              "2  Person3  2020-05-19     22    19    May\n",
              "3  Person1  2020-05-19     22    19    May\n",
              "4  Person3  2020-05-19     22    19    May"
            ]
          },
          "metadata": {
            "tags": []
          },
          "execution_count": 10
        }
      ]
    },
    {
      "cell_type": "markdown",
      "metadata": {
        "id": "qs9pCckFeO3X"
      },
      "source": [
        "The graph below shoes the number hours spent in chating."
      ]
    },
    {
      "cell_type": "code",
      "metadata": {
        "colab": {
          "base_uri": "https://localhost:8080/",
          "height": 296
        },
        "id": "yuCUGxhM_34Q",
        "outputId": "0e318639-c071-440c-87fc-e4e938c1e778"
      },
      "source": [
        "sns.countplot(x=\"names\", data=df, palette=\"viridis\")"
      ],
      "execution_count": null,
      "outputs": [
        {
          "output_type": "execute_result",
          "data": {
            "text/plain": [
              "<matplotlib.axes._subplots.AxesSubplot at 0x7fb46f04d210>"
            ]
          },
          "metadata": {
            "tags": []
          },
          "execution_count": 31
        },
        {
          "output_type": "display_data",
          "data": {
            "image/png": "[encoded data removed]",
            "text/plain": [
              "<Figure size 432x288 with 1 Axes>"
            ]
          },
          "metadata": {
            "tags": []
          }
        }
      ]
    },
    {
      "cell_type": "markdown",
      "metadata": {
        "id": "sbxjhYvGeWjj"
      },
      "source": [
        "the graphs below shows the number of times a person chated in a given time. "
      ]
    },
    {
      "cell_type": "code",
      "metadata": {
        "colab": {
          "base_uri": "https://localhost:8080/",
          "height": 351
        },
        "id": "d_FBF15JBDJY",
        "outputId": "5875db13-1d66-4333-a383-3baaeb5f9ed9"
      },
      "source": [
        "plt.figure(figsize = (15,5))\n",
        "sns.countplot(x=\"hours\", data=df[df[\"names\"] == \"Person1\"], palette=\"viridis\")"
      ],
      "execution_count": null,
      "outputs": [
        {
          "output_type": "execute_result",
          "data": {
            "text/plain": [
              "<matplotlib.axes._subplots.AxesSubplot at 0x7fb46fae51d0>"
            ]
          },
          "metadata": {
            "tags": []
          },
          "execution_count": 25
        },
        {
          "output_type": "display_data",
          "data": {
            "image/png": "[encoded data removed]",
            "text/plain": [
              "<Figure size 1080x360 with 1 Axes>"
            ]
          },
          "metadata": {
            "tags": []
          }
        }
      ]
    },
    {
      "cell_type": "code",
      "metadata": {
        "colab": {
          "base_uri": "https://localhost:8080/",
          "height": 351
        },
        "id": "WycN8k6JCTSN",
        "outputId": "086629cb-72f4-4101-c49a-f3be0dee2e2d"
      },
      "source": [
        "plt.figure(figsize = (15,5))\n",
        "sns.countplot(x=\"hours\", data=df[df[\"names\"] == \"Person2\"], palette=\"viridis\")"
      ],
      "execution_count": null,
      "outputs": [
        {
          "output_type": "execute_result",
          "data": {
            "text/plain": [
              "<matplotlib.axes._subplots.AxesSubplot at 0x7fb46f26ed90>"
            ]
          },
          "metadata": {
            "tags": []
          },
          "execution_count": 28
        },
        {
          "output_type": "display_data",
          "data": {
            "image/png": "[encoded data removed]",
            "text/plain": [
              "<Figure size 1080x360 with 1 Axes>"
            ]
          },
          "metadata": {
            "tags": []
          }
        }
      ]
    },
    {
      "cell_type": "code",
      "metadata": {
        "id": "CxXc6J9pCajL"
      },
      "source": [
        ""
      ],
      "execution_count": null,
      "outputs": []
    },
    {
      "cell_type": "code",
      "metadata": {
        "colab": {
          "base_uri": "https://localhost:8080/",
          "height": 354
        },
        "id": "cVYTz9l5Ca6D",
        "outputId": "170e4294-c413-4a41-82d2-03caa960014c"
      },
      "source": [
        "plt.figure(figsize = (15,5))\n",
        "sns.countplot(x=\"hours\", data=df[df[\"names\"] == \"Person3\"], palette=\"viridis\")"
      ],
      "execution_count": null,
      "outputs": [
        {
          "output_type": "execute_result",
          "data": {
            "text/plain": [
              "<matplotlib.axes._subplots.AxesSubplot at 0x7fb46f18bc10>"
            ]
          },
          "metadata": {
            "tags": []
          },
          "execution_count": 29
        },
        {
          "output_type": "display_data",
          "data": {
            "image/png": "[encoded data removed]",
            "text/plain": [
              "<Figure size 1080x360 with 1 Axes>"
            ]
          },
          "metadata": {
            "tags": []
          }
        }
      ]
    },
    {
      "cell_type": "code",
      "metadata": {
        "id": "lbqOkcC-Cck8"
      },
      "source": [
        ""
      ],
      "execution_count": null,
      "outputs": []
    },
    {
      "cell_type": "code",
      "metadata": {
        "colab": {
          "base_uri": "https://localhost:8080/",
          "height": 351
        },
        "id": "-vGRzHfgCc9Q",
        "outputId": "f0999c35-c360-4a1d-e3d8-d7e4daf8562b"
      },
      "source": [
        "plt.figure(figsize = (15,5))\n",
        "sns.countplot(x=\"hours\", data=df[df[\"names\"] == \"Person4\"], palette=\"viridis\")"
      ],
      "execution_count": null,
      "outputs": [
        {
          "output_type": "execute_result",
          "data": {
            "text/plain": [
              "<matplotlib.axes._subplots.AxesSubplot at 0x7fb46f1bf8d0>"
            ]
          },
          "metadata": {
            "tags": []
          },
          "execution_count": 30
        },
        {
          "output_type": "display_data",
          "data": {
            "image/png": "[encoded data removed]",
            "text/plain": [
              "<Figure size 1080x360 with 1 Axes>"
            ]
          },
          "metadata": {
            "tags": []
          }
        }
      ]
    },
    {
      "cell_type": "code",
      "metadata": {
        "colab": {
          "base_uri": "https://localhost:8080/",
          "height": 351
        },
        "id": "6yp23s1JCpvm",
        "outputId": "909b80fe-fd0b-4806-ab1a-ce32dad2f87d"
      },
      "source": [
        "plt.figure(figsize = (15,5))\n",
        "sns.countplot(x=\"months\", data=df, hue=\"names\", palette=\"viridis\")"
      ],
      "execution_count": null,
      "outputs": [
        {
          "output_type": "execute_result",
          "data": {
            "text/plain": [
              "<matplotlib.axes._subplots.AxesSubplot at 0x7fb46ee13810>"
            ]
          },
          "metadata": {
            "tags": []
          },
          "execution_count": 36
        },
        {
          "output_type": "display_data",
          "data": {
            "image/png": "[encoded data removed]",
            "text/plain": [
              "<Figure size 1080x360 with 1 Axes>"
            ]
          },
          "metadata": {
            "tags": []
          }
        }
      ]
    },
    {
      "cell_type": "code",
      "metadata": {
        "colab": {
          "base_uri": "https://localhost:8080/",
          "height": 351
        },
        "id": "zeKdMwOXCpn9",
        "outputId": "a35bc425-3c88-459b-d3c5-896cde530ab2"
      },
      "source": [
        "plt.figure(figsize = (15,5))\n",
        "sns.countplot(x=\"hours\", data=df, hue=\"names\", palette=\"viridis\")"
      ],
      "execution_count": null,
      "outputs": [
        {
          "output_type": "execute_result",
          "data": {
            "text/plain": [
              "<matplotlib.axes._subplots.AxesSubplot at 0x7fb46ecd0250>"
            ]
          },
          "metadata": {
            "tags": []
          },
          "execution_count": 37
        },
        {
          "output_type": "display_data",
          "data": {
            "image/png": "[encoded data removed]",
            "text/plain": [
              "<Figure size 1080x360 with 1 Axes>"
            ]
          },
          "metadata": {
            "tags": []
          }
        }
      ]
    },
    {
      "cell_type": "markdown",
      "metadata": {
        "id": "GF69YqzVes_5"
      },
      "source": [
        "The graph shows the comparison between all the persons chating on the whatsapp.\n"
      ]
    }
  ]
}