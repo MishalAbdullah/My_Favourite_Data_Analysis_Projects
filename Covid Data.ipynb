{
 "cells": [
  {
   "cell_type": "markdown",
   "id": "d59855e6",
   "metadata": {},
   "source": [
    "## Our goal is to predict the number of Deaths as the number of covid positive patients increases."
   ]
  },
  {
   "cell_type": "code",
   "execution_count": 1,
   "id": "b70d7163",
   "metadata": {},
   "outputs": [],
   "source": [
    "import pandas as pd\n",
    "import numpy as np\n",
    "import matplotlib.pyplot as plt\n",
    "from sklearn import linear_model\n",
    "%matplotlib inline\n",
    "import seaborn as sns\n",
    "plt.rcParams['figure.figsize'] = 10,12\n",
    "import warnings \n",
    "warnings.filterwarnings('ignore')"
   ]
  },
  {
   "cell_type": "code",
   "execution_count": 2,
   "id": "d0d6acb2",
   "metadata": {},
   "outputs": [
    {
     "data": {
      "text/html": [
       "<div>\n",
       "<style scoped>\n",
       "    .dataframe tbody tr th:only-of-type {\n",
       "        vertical-align: middle;\n",
       "    }\n",
       "\n",
       "    .dataframe tbody tr th {\n",
       "        vertical-align: top;\n",
       "    }\n",
       "\n",
       "    .dataframe thead th {\n",
       "        text-align: right;\n",
       "    }\n",
       "</style>\n",
       "<table border=\"1\" class=\"dataframe\">\n",
       "  <thead>\n",
       "    <tr style=\"text-align: right;\">\n",
       "      <th></th>\n",
       "      <th>State/UTs</th>\n",
       "      <th>Total Cases</th>\n",
       "      <th>Active</th>\n",
       "      <th>Discharged</th>\n",
       "      <th>Deaths</th>\n",
       "      <th>Active Ratio (%)</th>\n",
       "      <th>Discharge Ratio (%)</th>\n",
       "      <th>Death Ratio (%)</th>\n",
       "    </tr>\n",
       "  </thead>\n",
       "  <tbody>\n",
       "    <tr>\n",
       "      <th>0</th>\n",
       "      <td>Andaman and Nicobar</td>\n",
       "      <td>7566</td>\n",
       "      <td>6</td>\n",
       "      <td>7431</td>\n",
       "      <td>129</td>\n",
       "      <td>0.08</td>\n",
       "      <td>98.22</td>\n",
       "      <td>1.70</td>\n",
       "    </tr>\n",
       "    <tr>\n",
       "      <th>1</th>\n",
       "      <td>Andhra Pradesh</td>\n",
       "      <td>2014116</td>\n",
       "      <td>14693</td>\n",
       "      <td>1985566</td>\n",
       "      <td>13857</td>\n",
       "      <td>0.73</td>\n",
       "      <td>98.58</td>\n",
       "      <td>0.69</td>\n",
       "    </tr>\n",
       "    <tr>\n",
       "      <th>2</th>\n",
       "      <td>Arunachal Pradesh</td>\n",
       "      <td>53031</td>\n",
       "      <td>863</td>\n",
       "      <td>51908</td>\n",
       "      <td>260</td>\n",
       "      <td>1.63</td>\n",
       "      <td>97.88</td>\n",
       "      <td>0.49</td>\n",
       "    </tr>\n",
       "    <tr>\n",
       "      <th>3</th>\n",
       "      <td>Assam</td>\n",
       "      <td>589426</td>\n",
       "      <td>6901</td>\n",
       "      <td>576865</td>\n",
       "      <td>5660</td>\n",
       "      <td>1.17</td>\n",
       "      <td>97.87</td>\n",
       "      <td>0.96</td>\n",
       "    </tr>\n",
       "    <tr>\n",
       "      <th>4</th>\n",
       "      <td>Bihar</td>\n",
       "      <td>725708</td>\n",
       "      <td>100</td>\n",
       "      <td>715955</td>\n",
       "      <td>9653</td>\n",
       "      <td>0.01</td>\n",
       "      <td>98.66</td>\n",
       "      <td>1.33</td>\n",
       "    </tr>\n",
       "  </tbody>\n",
       "</table>\n",
       "</div>"
      ],
      "text/plain": [
       "             State/UTs  Total Cases  Active  Discharged  Deaths  \\\n",
       "0  Andaman and Nicobar         7566       6        7431     129   \n",
       "1       Andhra Pradesh      2014116   14693     1985566   13857   \n",
       "2    Arunachal Pradesh        53031     863       51908     260   \n",
       "3                Assam       589426    6901      576865    5660   \n",
       "4                Bihar       725708     100      715955    9653   \n",
       "\n",
       "   Active Ratio (%)  Discharge Ratio (%)  Death Ratio (%)  \n",
       "0              0.08                98.22             1.70  \n",
       "1              0.73                98.58             0.69  \n",
       "2              1.63                97.88             0.49  \n",
       "3              1.17                97.87             0.96  \n",
       "4              0.01                98.66             1.33  "
      ]
     },
     "execution_count": 2,
     "metadata": {},
     "output_type": "execute_result"
    }
   ],
   "source": [
    "df = pd.read_csv('/home/mishal/Documents/datasets/covid dataset/data.csv')\n",
    "statedf = pd.read_csv('/home/mishal/Documents/datasets/covid dataset/Latest Covid-19 India Status.csv')\n",
    "statedf.head(5)"
   ]
  },
  {
   "cell_type": "code",
   "execution_count": 3,
   "id": "242555a5",
   "metadata": {},
   "outputs": [
    {
     "data": {
      "text/html": [
       "<div>\n",
       "<style scoped>\n",
       "    .dataframe tbody tr th:only-of-type {\n",
       "        vertical-align: middle;\n",
       "    }\n",
       "\n",
       "    .dataframe tbody tr th {\n",
       "        vertical-align: top;\n",
       "    }\n",
       "\n",
       "    .dataframe thead th {\n",
       "        text-align: right;\n",
       "    }\n",
       "</style>\n",
       "<table border=\"1\" class=\"dataframe\">\n",
       "  <thead>\n",
       "    <tr style=\"text-align: right;\">\n",
       "      <th></th>\n",
       "      <th>cases_time_series/dailyconfirmed</th>\n",
       "      <th>cases_time_series/dailydeceased</th>\n",
       "      <th>cases_time_series/dailyrecovered</th>\n",
       "      <th>cases_time_series/date</th>\n",
       "      <th>cases_time_series/dateymd</th>\n",
       "      <th>cases_time_series/totalconfirmed</th>\n",
       "      <th>cases_time_series/totaldeceased</th>\n",
       "      <th>cases_time_series/totalrecovered</th>\n",
       "      <th>statewise/active</th>\n",
       "      <th>statewise/confirmed</th>\n",
       "      <th>...</th>\n",
       "      <th>tested/totalindividualsregistered</th>\n",
       "      <th>tested/totalindividualstested</th>\n",
       "      <th>tested/totalpositivecases</th>\n",
       "      <th>tested/totalrtpcrsamplescollectedicmrapplication</th>\n",
       "      <th>tested/totalsamplestested</th>\n",
       "      <th>tested/totalsessionsconducted</th>\n",
       "      <th>tested/totalvaccineconsumptionincludingwastage</th>\n",
       "      <th>tested/updatetimestamp</th>\n",
       "      <th>tested/years1stdose</th>\n",
       "      <th>tested/years2nddose</th>\n",
       "    </tr>\n",
       "  </thead>\n",
       "  <tbody>\n",
       "    <tr>\n",
       "      <th>0</th>\n",
       "      <td>1</td>\n",
       "      <td>0</td>\n",
       "      <td>0</td>\n",
       "      <td>30 January 2020</td>\n",
       "      <td>2020-01-30</td>\n",
       "      <td>1</td>\n",
       "      <td>0</td>\n",
       "      <td>0</td>\n",
       "      <td>363849.0</td>\n",
       "      <td>32249900.0</td>\n",
       "      <td>...</td>\n",
       "      <td>NaN</td>\n",
       "      <td>5900.0</td>\n",
       "      <td>78.0</td>\n",
       "      <td>NaN</td>\n",
       "      <td>6500.0</td>\n",
       "      <td>NaN</td>\n",
       "      <td>NaN</td>\n",
       "      <td>13/03/2020 00:00:00</td>\n",
       "      <td>NaN</td>\n",
       "      <td>NaN</td>\n",
       "    </tr>\n",
       "    <tr>\n",
       "      <th>1</th>\n",
       "      <td>0</td>\n",
       "      <td>0</td>\n",
       "      <td>0</td>\n",
       "      <td>31 January 2020</td>\n",
       "      <td>2020-01-31</td>\n",
       "      <td>1</td>\n",
       "      <td>0</td>\n",
       "      <td>0</td>\n",
       "      <td>1.0</td>\n",
       "      <td>7549.0</td>\n",
       "      <td>...</td>\n",
       "      <td>NaN</td>\n",
       "      <td>12235.0</td>\n",
       "      <td>150.0</td>\n",
       "      <td>NaN</td>\n",
       "      <td>13125.0</td>\n",
       "      <td>NaN</td>\n",
       "      <td>NaN</td>\n",
       "      <td>18/03/2020 18:00:00</td>\n",
       "      <td>NaN</td>\n",
       "      <td>NaN</td>\n",
       "    </tr>\n",
       "    <tr>\n",
       "      <th>2</th>\n",
       "      <td>0</td>\n",
       "      <td>0</td>\n",
       "      <td>0</td>\n",
       "      <td>1 February 2020</td>\n",
       "      <td>2020-02-01</td>\n",
       "      <td>1</td>\n",
       "      <td>0</td>\n",
       "      <td>0</td>\n",
       "      <td>17218.0</td>\n",
       "      <td>1994606.0</td>\n",
       "      <td>...</td>\n",
       "      <td>NaN</td>\n",
       "      <td>12426.0</td>\n",
       "      <td>168.0</td>\n",
       "      <td>NaN</td>\n",
       "      <td>13316.0</td>\n",
       "      <td>NaN</td>\n",
       "      <td>NaN</td>\n",
       "      <td>19/03/2020 10:00:00</td>\n",
       "      <td>NaN</td>\n",
       "      <td>NaN</td>\n",
       "    </tr>\n",
       "    <tr>\n",
       "      <th>3</th>\n",
       "      <td>1</td>\n",
       "      <td>0</td>\n",
       "      <td>0</td>\n",
       "      <td>2 February 2020</td>\n",
       "      <td>2020-02-02</td>\n",
       "      <td>2</td>\n",
       "      <td>0</td>\n",
       "      <td>0</td>\n",
       "      <td>1836.0</td>\n",
       "      <td>51513.0</td>\n",
       "      <td>...</td>\n",
       "      <td>NaN</td>\n",
       "      <td>13285.0</td>\n",
       "      <td>182.0</td>\n",
       "      <td>NaN</td>\n",
       "      <td>14175.0</td>\n",
       "      <td>NaN</td>\n",
       "      <td>NaN</td>\n",
       "      <td>19/03/2020 18:00:00</td>\n",
       "      <td>NaN</td>\n",
       "      <td>NaN</td>\n",
       "    </tr>\n",
       "    <tr>\n",
       "      <th>4</th>\n",
       "      <td>1</td>\n",
       "      <td>0</td>\n",
       "      <td>0</td>\n",
       "      <td>3 February 2020</td>\n",
       "      <td>2020-02-03</td>\n",
       "      <td>3</td>\n",
       "      <td>0</td>\n",
       "      <td>0</td>\n",
       "      <td>7707.0</td>\n",
       "      <td>580657.0</td>\n",
       "      <td>...</td>\n",
       "      <td>NaN</td>\n",
       "      <td>13486.0</td>\n",
       "      <td>206.0</td>\n",
       "      <td>NaN</td>\n",
       "      <td>14376.0</td>\n",
       "      <td>NaN</td>\n",
       "      <td>NaN</td>\n",
       "      <td>20/03/2020 10:00:00</td>\n",
       "      <td>NaN</td>\n",
       "      <td>NaN</td>\n",
       "    </tr>\n",
       "  </tbody>\n",
       "</table>\n",
       "<p>5 rows × 61 columns</p>\n",
       "</div>"
      ],
      "text/plain": [
       "   cases_time_series/dailyconfirmed  cases_time_series/dailydeceased  \\\n",
       "0                                 1                                0   \n",
       "1                                 0                                0   \n",
       "2                                 0                                0   \n",
       "3                                 1                                0   \n",
       "4                                 1                                0   \n",
       "\n",
       "   cases_time_series/dailyrecovered cases_time_series/date  \\\n",
       "0                                 0        30 January 2020   \n",
       "1                                 0        31 January 2020   \n",
       "2                                 0        1 February 2020   \n",
       "3                                 0        2 February 2020   \n",
       "4                                 0        3 February 2020   \n",
       "\n",
       "  cases_time_series/dateymd  cases_time_series/totalconfirmed  \\\n",
       "0                2020-01-30                                 1   \n",
       "1                2020-01-31                                 1   \n",
       "2                2020-02-01                                 1   \n",
       "3                2020-02-02                                 2   \n",
       "4                2020-02-03                                 3   \n",
       "\n",
       "   cases_time_series/totaldeceased  cases_time_series/totalrecovered  \\\n",
       "0                                0                                 0   \n",
       "1                                0                                 0   \n",
       "2                                0                                 0   \n",
       "3                                0                                 0   \n",
       "4                                0                                 0   \n",
       "\n",
       "   statewise/active  statewise/confirmed  ...  \\\n",
       "0          363849.0           32249900.0  ...   \n",
       "1               1.0               7549.0  ...   \n",
       "2           17218.0            1994606.0  ...   \n",
       "3            1836.0              51513.0  ...   \n",
       "4            7707.0             580657.0  ...   \n",
       "\n",
       "   tested/totalindividualsregistered  tested/totalindividualstested  \\\n",
       "0                                NaN                         5900.0   \n",
       "1                                NaN                        12235.0   \n",
       "2                                NaN                        12426.0   \n",
       "3                                NaN                        13285.0   \n",
       "4                                NaN                        13486.0   \n",
       "\n",
       "   tested/totalpositivecases  \\\n",
       "0                       78.0   \n",
       "1                      150.0   \n",
       "2                      168.0   \n",
       "3                      182.0   \n",
       "4                      206.0   \n",
       "\n",
       "   tested/totalrtpcrsamplescollectedicmrapplication tested/totalsamplestested  \\\n",
       "0                                               NaN                    6500.0   \n",
       "1                                               NaN                   13125.0   \n",
       "2                                               NaN                   13316.0   \n",
       "3                                               NaN                   14175.0   \n",
       "4                                               NaN                   14376.0   \n",
       "\n",
       "   tested/totalsessionsconducted  \\\n",
       "0                            NaN   \n",
       "1                            NaN   \n",
       "2                            NaN   \n",
       "3                            NaN   \n",
       "4                            NaN   \n",
       "\n",
       "   tested/totalvaccineconsumptionincludingwastage tested/updatetimestamp  \\\n",
       "0                                             NaN    13/03/2020 00:00:00   \n",
       "1                                             NaN    18/03/2020 18:00:00   \n",
       "2                                             NaN    19/03/2020 10:00:00   \n",
       "3                                             NaN    19/03/2020 18:00:00   \n",
       "4                                             NaN    20/03/2020 10:00:00   \n",
       "\n",
       "  tested/years1stdose tested/years2nddose  \n",
       "0                 NaN                 NaN  \n",
       "1                 NaN                 NaN  \n",
       "2                 NaN                 NaN  \n",
       "3                 NaN                 NaN  \n",
       "4                 NaN                 NaN  \n",
       "\n",
       "[5 rows x 61 columns]"
      ]
     },
     "execution_count": 3,
     "metadata": {},
     "output_type": "execute_result"
    }
   ],
   "source": [
    "df.head()"
   ]
  },
  {
   "cell_type": "code",
   "execution_count": 4,
   "id": "827168bc",
   "metadata": {},
   "outputs": [
    {
     "name": "stdout",
     "output_type": "stream",
     "text": [
      "5644344246 total number of confirmed cases\n",
      "75786240 toal number of deaths\n",
      "31441089 total number of cured patients\n"
     ]
    }
   ],
   "source": [
    "#for finding the total number of cases\n",
    "df['total cases'] = df['cases_time_series/totalconfirmed']\n",
    "total_cases = df['total cases'].sum()\n",
    "df ['total deaths'] = df['cases_time_series/totaldeceased']\n",
    "total_deaths = df['total deaths'].sum()\n",
    "df ['total cured'] = df['cases_time_series/dailyrecovered']\n",
    "total_cured = df['total cured'].sum()\n",
    "print (total_cases,\"total number of confirmed cases\")\n",
    "print (total_deaths,\"toal number of deaths\")\n",
    "print(total_cured,\"total number of cured patients\")"
   ]
  },
  {
   "cell_type": "code",
   "execution_count": 5,
   "id": "35c6f6ba",
   "metadata": {},
   "outputs": [
    {
     "data": {
      "text/html": [
       "<style type=\"text/css\">\n",
       "#T_650ab_row0_col0 {\n",
       "  background-color: #67000d;\n",
       "  color: #f1f1f1;\n",
       "}\n",
       "#T_650ab_row1_col0 {\n",
       "  background-color: #fcbca2;\n",
       "  color: #000000;\n",
       "}\n",
       "#T_650ab_row2_col0 {\n",
       "  background-color: #fee7dc;\n",
       "  color: #000000;\n",
       "}\n",
       "#T_650ab_row3_col0 {\n",
       "  background-color: #fee8de;\n",
       "  color: #000000;\n",
       "}\n",
       "#T_650ab_row4_col0 {\n",
       "  background-color: #feeae0;\n",
       "  color: #000000;\n",
       "}\n",
       "#T_650ab_row5_col0, #T_650ab_row6_col0 {\n",
       "  background-color: #ffeee7;\n",
       "  color: #000000;\n",
       "}\n",
       "#T_650ab_row7_col0 {\n",
       "  background-color: #fff0e8;\n",
       "  color: #000000;\n",
       "}\n",
       "#T_650ab_row8_col0 {\n",
       "  background-color: #fff0e9;\n",
       "  color: #000000;\n",
       "}\n",
       "#T_650ab_row9_col0 {\n",
       "  background-color: #fff1ea;\n",
       "  color: #000000;\n",
       "}\n",
       "#T_650ab_row10_col0 {\n",
       "  background-color: #fff3ed;\n",
       "  color: #000000;\n",
       "}\n",
       "#T_650ab_row11_col0 {\n",
       "  background-color: #fff4ee;\n",
       "  color: #000000;\n",
       "}\n",
       "#T_650ab_row12_col0, #T_650ab_row13_col0, #T_650ab_row14_col0, #T_650ab_row15_col0, #T_650ab_row16_col0, #T_650ab_row17_col0 {\n",
       "  background-color: #fff4ef;\n",
       "  color: #000000;\n",
       "}\n",
       "#T_650ab_row18_col0, #T_650ab_row19_col0, #T_650ab_row20_col0, #T_650ab_row21_col0, #T_650ab_row22_col0, #T_650ab_row23_col0, #T_650ab_row24_col0, #T_650ab_row25_col0, #T_650ab_row26_col0, #T_650ab_row27_col0, #T_650ab_row28_col0, #T_650ab_row29_col0, #T_650ab_row30_col0, #T_650ab_row31_col0, #T_650ab_row32_col0, #T_650ab_row33_col0, #T_650ab_row34_col0, #T_650ab_row35_col0 {\n",
       "  background-color: #fff5f0;\n",
       "  color: #000000;\n",
       "}\n",
       "</style>\n",
       "<table id=\"T_650ab_\">\n",
       "  <thead>\n",
       "    <tr>\n",
       "      <th class=\"blank level0\" >&nbsp;</th>\n",
       "      <th class=\"col_heading level0 col0\" >Active</th>\n",
       "    </tr>\n",
       "    <tr>\n",
       "      <th class=\"index_name level0\" >State/UTs</th>\n",
       "      <th class=\"blank col0\" >&nbsp;</th>\n",
       "    </tr>\n",
       "  </thead>\n",
       "  <tbody>\n",
       "    <tr>\n",
       "      <th id=\"T_650ab_level0_row0\" class=\"row_heading level0 row0\" >Kerala</th>\n",
       "      <td id=\"T_650ab_row0_col0\" class=\"data row0 col0\" >219441</td>\n",
       "    </tr>\n",
       "    <tr>\n",
       "      <th id=\"T_650ab_level0_row1\" class=\"row_heading level0 row1\" >Maharashtra</th>\n",
       "      <td id=\"T_650ab_row1_col0\" class=\"data row1 col0\" >54763</td>\n",
       "    </tr>\n",
       "    <tr>\n",
       "      <th id=\"T_650ab_level0_row2\" class=\"row_heading level0 row2\" >Karnataka</th>\n",
       "      <td id=\"T_650ab_row2_col0\" class=\"data row2 col0\" >18412</td>\n",
       "    </tr>\n",
       "    <tr>\n",
       "      <th id=\"T_650ab_level0_row3\" class=\"row_heading level0 row3\" >Tamil Nadu</th>\n",
       "      <td id=\"T_650ab_row3_col0\" class=\"data row3 col0\" >16850</td>\n",
       "    </tr>\n",
       "    <tr>\n",
       "      <th id=\"T_650ab_level0_row4\" class=\"row_heading level0 row4\" >Andhra Pradesh</th>\n",
       "      <td id=\"T_650ab_row4_col0\" class=\"data row4 col0\" >14693</td>\n",
       "    </tr>\n",
       "    <tr>\n",
       "      <th id=\"T_650ab_level0_row5\" class=\"row_heading level0 row5\" >Mizoram</th>\n",
       "      <td id=\"T_650ab_row5_col0\" class=\"data row5 col0\" >8885</td>\n",
       "    </tr>\n",
       "    <tr>\n",
       "      <th id=\"T_650ab_level0_row6\" class=\"row_heading level0 row6\" >West Bengal</th>\n",
       "      <td id=\"T_650ab_row6_col0\" class=\"data row6 col0\" >8815</td>\n",
       "    </tr>\n",
       "    <tr>\n",
       "      <th id=\"T_650ab_level0_row7\" class=\"row_heading level0 row7\" >Assam</th>\n",
       "      <td id=\"T_650ab_row7_col0\" class=\"data row7 col0\" >6901</td>\n",
       "    </tr>\n",
       "    <tr>\n",
       "      <th id=\"T_650ab_level0_row8\" class=\"row_heading level0 row8\" >Odisha</th>\n",
       "      <td id=\"T_650ab_row8_col0\" class=\"data row8 col0\" >6546</td>\n",
       "    </tr>\n",
       "    <tr>\n",
       "      <th id=\"T_650ab_level0_row9\" class=\"row_heading level0 row9\" >Telengana</th>\n",
       "      <td id=\"T_650ab_row9_col0\" class=\"data row9 col0\" >5864</td>\n",
       "    </tr>\n",
       "    <tr>\n",
       "      <th id=\"T_650ab_level0_row10\" class=\"row_heading level0 row10\" >Manipur</th>\n",
       "      <td id=\"T_650ab_row10_col0\" class=\"data row10 col0\" >3397</td>\n",
       "    </tr>\n",
       "    <tr>\n",
       "      <th id=\"T_650ab_level0_row11\" class=\"row_heading level0 row11\" >Meghalaya</th>\n",
       "      <td id=\"T_650ab_row11_col0\" class=\"data row11 col0\" >2326</td>\n",
       "    </tr>\n",
       "    <tr>\n",
       "      <th id=\"T_650ab_level0_row12\" class=\"row_heading level0 row12\" >Himachal Pradesh</th>\n",
       "      <td id=\"T_650ab_row12_col0\" class=\"data row12 col0\" >1642</td>\n",
       "    </tr>\n",
       "    <tr>\n",
       "      <th id=\"T_650ab_level0_row13\" class=\"row_heading level0 row13\" >Jammu and Kashmir</th>\n",
       "      <td id=\"T_650ab_row13_col0\" class=\"data row13 col0\" >1330</td>\n",
       "    </tr>\n",
       "    <tr>\n",
       "      <th id=\"T_650ab_level0_row14\" class=\"row_heading level0 row14\" >Sikkim</th>\n",
       "      <td id=\"T_650ab_row14_col0\" class=\"data row14 col0\" >1094</td>\n",
       "    </tr>\n",
       "    <tr>\n",
       "      <th id=\"T_650ab_level0_row15\" class=\"row_heading level0 row15\" >Tripura</th>\n",
       "      <td id=\"T_650ab_row15_col0\" class=\"data row15 col0\" >917</td>\n",
       "    </tr>\n",
       "    <tr>\n",
       "      <th id=\"T_650ab_level0_row16\" class=\"row_heading level0 row16\" >Goa</th>\n",
       "      <td id=\"T_650ab_row16_col0\" class=\"data row16 col0\" >877</td>\n",
       "    </tr>\n",
       "    <tr>\n",
       "      <th id=\"T_650ab_level0_row17\" class=\"row_heading level0 row17\" >Arunachal Pradesh</th>\n",
       "      <td id=\"T_650ab_row17_col0\" class=\"data row17 col0\" >863</td>\n",
       "    </tr>\n",
       "    <tr>\n",
       "      <th id=\"T_650ab_level0_row18\" class=\"row_heading level0 row18\" >Nagaland</th>\n",
       "      <td id=\"T_650ab_row18_col0\" class=\"data row18 col0\" >815</td>\n",
       "    </tr>\n",
       "    <tr>\n",
       "      <th id=\"T_650ab_level0_row19\" class=\"row_heading level0 row19\" >Puducherry</th>\n",
       "      <td id=\"T_650ab_row19_col0\" class=\"data row19 col0\" >715</td>\n",
       "    </tr>\n",
       "    <tr>\n",
       "      <th id=\"T_650ab_level0_row20\" class=\"row_heading level0 row20\" >Haryana</th>\n",
       "      <td id=\"T_650ab_row20_col0\" class=\"data row20 col0\" >634</td>\n",
       "    </tr>\n",
       "    <tr>\n",
       "      <th id=\"T_650ab_level0_row21\" class=\"row_heading level0 row21\" >Chhattisgarh</th>\n",
       "      <td id=\"T_650ab_row21_col0\" class=\"data row21 col0\" >412</td>\n",
       "    </tr>\n",
       "    <tr>\n",
       "      <th id=\"T_650ab_level0_row22\" class=\"row_heading level0 row22\" >Uttarakhand</th>\n",
       "      <td id=\"T_650ab_row22_col0\" class=\"data row22 col0\" >354</td>\n",
       "    </tr>\n",
       "    <tr>\n",
       "      <th id=\"T_650ab_level0_row23\" class=\"row_heading level0 row23\" >Delhi</th>\n",
       "      <td id=\"T_650ab_row23_col0\" class=\"data row23 col0\" >349</td>\n",
       "    </tr>\n",
       "    <tr>\n",
       "      <th id=\"T_650ab_level0_row24\" class=\"row_heading level0 row24\" >Punjab</th>\n",
       "      <td id=\"T_650ab_row24_col0\" class=\"data row24 col0\" >324</td>\n",
       "    </tr>\n",
       "    <tr>\n",
       "      <th id=\"T_650ab_level0_row25\" class=\"row_heading level0 row25\" >Uttar Pradesh</th>\n",
       "      <td id=\"T_650ab_row25_col0\" class=\"data row25 col0\" >256</td>\n",
       "    </tr>\n",
       "    <tr>\n",
       "      <th id=\"T_650ab_level0_row26\" class=\"row_heading level0 row26\" >Gujarat</th>\n",
       "      <td id=\"T_650ab_row26_col0\" class=\"data row26 col0\" >150</td>\n",
       "    </tr>\n",
       "    <tr>\n",
       "      <th id=\"T_650ab_level0_row27\" class=\"row_heading level0 row27\" >Jharkhand</th>\n",
       "      <td id=\"T_650ab_row27_col0\" class=\"data row27 col0\" >130</td>\n",
       "    </tr>\n",
       "    <tr>\n",
       "      <th id=\"T_650ab_level0_row28\" class=\"row_heading level0 row28\" >Bihar</th>\n",
       "      <td id=\"T_650ab_row28_col0\" class=\"data row28 col0\" >100</td>\n",
       "    </tr>\n",
       "    <tr>\n",
       "      <th id=\"T_650ab_level0_row29\" class=\"row_heading level0 row29\" >Rajasthan</th>\n",
       "      <td id=\"T_650ab_row29_col0\" class=\"data row29 col0\" >97</td>\n",
       "    </tr>\n",
       "    <tr>\n",
       "      <th id=\"T_650ab_level0_row30\" class=\"row_heading level0 row30\" >Madhya Pradesh</th>\n",
       "      <td id=\"T_650ab_row30_col0\" class=\"data row30 col0\" >79</td>\n",
       "    </tr>\n",
       "    <tr>\n",
       "      <th id=\"T_650ab_level0_row31\" class=\"row_heading level0 row31\" >Ladakh</th>\n",
       "      <td id=\"T_650ab_row31_col0\" class=\"data row31 col0\" >69</td>\n",
       "    </tr>\n",
       "    <tr>\n",
       "      <th id=\"T_650ab_level0_row32\" class=\"row_heading level0 row32\" >Chandigarh</th>\n",
       "      <td id=\"T_650ab_row32_col0\" class=\"data row32 col0\" >40</td>\n",
       "    </tr>\n",
       "    <tr>\n",
       "      <th id=\"T_650ab_level0_row33\" class=\"row_heading level0 row33\" >Lakshadweep</th>\n",
       "      <td id=\"T_650ab_row33_col0\" class=\"data row33 col0\" >31</td>\n",
       "    </tr>\n",
       "    <tr>\n",
       "      <th id=\"T_650ab_level0_row34\" class=\"row_heading level0 row34\" >Andaman and Nicobar</th>\n",
       "      <td id=\"T_650ab_row34_col0\" class=\"data row34 col0\" >6</td>\n",
       "    </tr>\n",
       "    <tr>\n",
       "      <th id=\"T_650ab_level0_row35\" class=\"row_heading level0 row35\" >Dadra and Nagar Haveli and Daman and Diu</th>\n",
       "      <td id=\"T_650ab_row35_col0\" class=\"data row35 col0\" >4</td>\n",
       "    </tr>\n",
       "  </tbody>\n",
       "</table>\n"
      ],
      "text/plain": [
       "<pandas.io.formats.style.Styler at 0x7f7c051a4a00>"
      ]
     },
     "execution_count": 5,
     "metadata": {},
     "output_type": "execute_result"
    }
   ],
   "source": [
    "# Now lets chech which state has the highest number of active cases\n",
    "df2 = statedf.drop(columns=['Active Ratio (%)','Discharge Ratio (%)','Death Ratio (%)','Discharged','Deaths','Total Cases'])\n",
    "#gu=vgsales.drop(columns=['Global_Sales','EU_Sales','Other_Sales','NA_Sales','JP_Sales'])\n",
    "df3 = df2.groupby('State/UTs')['Active'].sum().sort_values(ascending=False).to_frame()\n",
    "df3.style.background_gradient(cmap='Reds')"
   ]
  },
  {
   "cell_type": "code",
   "execution_count": 6,
   "id": "43687304",
   "metadata": {},
   "outputs": [
    {
     "data": {
      "image/png": "[encoded data removed]",
      "text/plain": [
       "<Figure size 864x576 with 1 Axes>"
      ]
     },
     "metadata": {
      "needs_background": "light"
     },
     "output_type": "display_data"
    }
   ],
   "source": [
    "f, ax = plt.subplots(figsize=(12,8))\n",
    "data = statedf[['State/UTs','Deaths','Active','Discharged']]\n",
    "data.sort_values('Active',ascending=False, inplace=True)\n",
    "sns.set_color_codes(\"pastel\")\n",
    "sns.barplot(x='Discharged',y='State/UTs',data=data,label='Total',color='r')\n",
    "sns.barplot(x='Active',y='State/UTs',data=data,label='Cured',color='g')\n",
    "#legend\n",
    "ax.legend(ncol=2, loc=\"lower right\", frameon=True)\n",
    "ax.set(ylabel=\"\",xlabel=\"\")\n",
    "sns.despine(left=\"True\",bottom=\"True\")"
   ]
  },
  {
   "cell_type": "markdown",
   "id": "919c1adb",
   "metadata": {},
   "source": [
    "# This shows the daily confirmed cases"
   ]
  },
  {
   "attachments": {
    "Sheet%201.png": {
     "image/png": "[encoded data removed]"
    }
   },
   "cell_type": "markdown",
   "id": "55a0efec",
   "metadata": {},
   "source": [
    "![Sheet%201.png](attachment:Sheet%201.png)"
   ]
  },
  {
   "cell_type": "markdown",
   "id": "fca534b1",
   "metadata": {},
   "source": [
    "# This graph shows the daily deceased victims"
   ]
  },
  {
   "attachments": {
    "ai;is;so.png": {
     "image/png": "[encoded data removed]"
    }
   },
   "cell_type": "markdown",
   "id": "2951530a",
   "metadata": {},
   "source": [
    "![ai;is;so.png](attachment:ai;is;so.png)"
   ]
  },
  {
   "cell_type": "code",
   "execution_count": 7,
   "id": "1e911998",
   "metadata": {},
   "outputs": [
    {
     "data": {
      "text/plain": [
       "<AxesSubplot:>"
      ]
     },
     "execution_count": 7,
     "metadata": {},
     "output_type": "execute_result"
    },
    {
     "data": {
      "image/png": "[encoded data removed]",
      "text/plain": [
       "<Figure size 720x864 with 2 Axes>"
      ]
     },
     "metadata": {
      "needs_background": "light"
     },
     "output_type": "display_data"
    }
   ],
   "source": [
    "#df = df_data\n",
    "df_data = df [['cases_time_series/dateymd','cases_time_series/dailyconfirmed','cases_time_series/dailydeceased']]#,'JP_Sales','Other_Sales','Global_Sales']]\n",
    "sns.heatmap(df_data.corr())\n",
    "#this heatmap shows the direact correlation between the daily confirmed cases and daily deceased cases"
   ]
  },
  {
   "cell_type": "code",
   "execution_count": 8,
   "id": "34ab32cd",
   "metadata": {},
   "outputs": [],
   "source": [
    "total = pd.DataFrame(df_data['cases_time_series/dailyconfirmed'])\n",
    "deaths = pd.DataFrame(df_data['cases_time_series/dailydeceased'])\n",
    "lm = linear_model.LinearRegression()\n",
    "model = lm.fit(total,deaths)"
   ]
  },
  {
   "cell_type": "code",
   "execution_count": 9,
   "id": "97e73538",
   "metadata": {},
   "outputs": [
    {
     "data": {
      "text/plain": [
       "array([[0.01047592]])"
      ]
     },
     "execution_count": 9,
     "metadata": {},
     "output_type": "execute_result"
    }
   ],
   "source": [
    "model.coef_"
   ]
  },
  {
   "cell_type": "code",
   "execution_count": 10,
   "id": "de7819ec",
   "metadata": {},
   "outputs": [
    {
     "data": {
      "text/plain": [
       "array([165.79993794])"
      ]
     },
     "execution_count": 10,
     "metadata": {},
     "output_type": "execute_result"
    }
   ],
   "source": [
    "model.intercept_"
   ]
  },
  {
   "cell_type": "code",
   "execution_count": 11,
   "id": "6345561d",
   "metadata": {},
   "outputs": [
    {
     "data": {
      "text/plain": [
       "0.707115055317873"
      ]
     },
     "execution_count": 11,
     "metadata": {},
     "output_type": "execute_result"
    }
   ],
   "source": [
    "model.score(total,deaths)"
   ]
  },
  {
   "cell_type": "markdown",
   "id": "3e75e42e",
   "metadata": {},
   "source": [
    "our model score is 70, now lets try to increase it "
   ]
  },
  {
   "cell_type": "code",
   "execution_count": 12,
   "id": "61258a75",
   "metadata": {},
   "outputs": [],
   "source": [
    "x = pd.DataFrame(df_data['cases_time_series/dailyconfirmed'])\n",
    "y = pd.DataFrame(df_data['cases_time_series/dailydeceased'])\n",
    "from sklearn.model_selection import train_test_split\n",
    "x_train, x_test, y_train, y_test = train_test_split(x, y, test_size = 0.2)"
   ]
  },
  {
   "cell_type": "code",
   "execution_count": 13,
   "id": "8f481a52",
   "metadata": {},
   "outputs": [
    {
     "data": {
      "text/plain": [
       "0.6991910923436594"
      ]
     },
     "execution_count": 13,
     "metadata": {},
     "output_type": "execute_result"
    }
   ],
   "source": [
    "model.score(x_train,y_train) # for training the model "
   ]
  },
  {
   "cell_type": "code",
   "execution_count": 14,
   "id": "e0237bf7",
   "metadata": {},
   "outputs": [
    {
     "data": {
      "text/plain": [
       "0.7426627972582138"
      ]
     },
     "execution_count": 14,
     "metadata": {},
     "output_type": "execute_result"
    }
   ],
   "source": [
    "lm = linear_model.LinearRegression()\n",
    "model = lm.fit(x,y)\n",
    "model.score(x_test,y_test)"
   ]
  },
  {
   "cell_type": "code",
   "execution_count": 15,
   "id": "13245bdc",
   "metadata": {},
   "outputs": [],
   "source": [
    "# now our model score is 82.9 from 70"
   ]
  },
  {
   "cell_type": "code",
   "execution_count": 16,
   "id": "7099ce16",
   "metadata": {},
   "outputs": [
    {
     "data": {
      "text/plain": [
       "array([[175.10255372]])"
      ]
     },
     "execution_count": 16,
     "metadata": {},
     "output_type": "execute_result"
    }
   ],
   "source": [
    "#Prediting a new vlaue\n",
    "total_new=888\n",
    "death_predict=model.predict(np.array(total_new).reshape(-1, 1))#converting an scalar to 2d array\n",
    "death_predict\n",
    "#the model predicts that if 888 people get infected with covid there is 83% chance that 175 people may die.``"
   ]
  }
 ],
 "metadata": {
  "kernelspec": {
   "display_name": "Python 3 (ipykernel)",
   "language": "python",
   "name": "python3"
  },
  "language_info": {
   "codemirror_mode": {
    "name": "ipython",
    "version": 3
   },
   "file_extension": ".py",
   "mimetype": "text/x-python",
   "name": "python",
   "nbconvert_exporter": "python",
   "pygments_lexer": "ipython3",
   "version": "3.8.10"
  }
 },
 "nbformat": 4,
 "nbformat_minor": 5
}
